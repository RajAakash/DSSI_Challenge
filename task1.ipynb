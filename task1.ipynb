{
 "cells": [
  {
   "cell_type": "code",
   "execution_count": 19,
   "metadata": {},
   "outputs": [],
   "source": [
    "import numpy as np\n",
    "import pandas as pd"
   ]
  },
  {
   "cell_type": "code",
   "execution_count": 20,
   "metadata": {},
   "outputs": [],
   "source": [
    "normal_df=pd.read_csv('datasets_1_2/ptbdb_normal.csv')\n",
    "abnormal_df=pd.read_csv('datasets_1_2/ptbdb_normal.csv')"
   ]
  },
  {
   "cell_type": "code",
   "execution_count": 21,
   "metadata": {},
   "outputs": [],
   "source": [
    "from sklearn.preprocessing import LabelEncoder, MinMaxScaler"
   ]
  },
  {
   "cell_type": "code",
   "execution_count": 22,
   "metadata": {},
   "outputs": [
    {
     "name": "stdout",
     "output_type": "stream",
     "text": [
      "   1.000000000000000000e+00  9.003241658210754395e-01  \\\n",
      "0                  1.000000                  0.794681   \n",
      "1                  0.909029                  0.791482   \n",
      "2                  1.000000                  0.478893   \n",
      "3                  1.000000                  0.867238   \n",
      "4                  0.948983                  0.505265   \n",
      "\n",
      "   3.585899472236633301e-01  5.145867168903350830e-02  \\\n",
      "0                  0.375387                  0.116883   \n",
      "1                  0.423169                  0.186712   \n",
      "2                  0.056760                  0.064176   \n",
      "3                  0.201360                  0.099349   \n",
      "4                  0.004176                  0.022513   \n",
      "\n",
      "   4.659643396735191345e-02  1.268233358860015869e-01  \\\n",
      "0                  0.000000                  0.171923   \n",
      "1                  0.000000                  0.007836   \n",
      "2                  0.081289                  0.072732   \n",
      "3                  0.141336                  0.120934   \n",
      "4                  0.059550                  0.107298   \n",
      "\n",
      "   1.333063244819641113e-01  1.191247999668121338e-01  \\\n",
      "0                  0.283859                  0.293754   \n",
      "1                  0.063032                  0.077002   \n",
      "2                  0.055619                  0.048774   \n",
      "3                  0.108516                  0.096393   \n",
      "4                  0.110385                  0.111293   \n",
      "\n",
      "   1.106158867478370667e-01  1.130470037460327148e-01  ...  \\\n",
      "0                  0.325912                  0.345083  ...   \n",
      "1                  0.074957                  0.077342  ...   \n",
      "2                  0.054478                  0.041643  ...   \n",
      "3                  0.093436                  0.100828  ...   \n",
      "4                  0.116558                  0.118192  ...   \n",
      "\n",
      "   0.000000000000000000e+00.56  0.000000000000000000e+00.57  \\\n",
      "0                          0.0                          0.0   \n",
      "1                          0.0                          0.0   \n",
      "2                          0.0                          0.0   \n",
      "3                          0.0                          0.0   \n",
      "4                          0.0                          0.0   \n",
      "\n",
      "   0.000000000000000000e+00.58  0.000000000000000000e+00.59  \\\n",
      "0                          0.0                          0.0   \n",
      "1                          0.0                          0.0   \n",
      "2                          0.0                          0.0   \n",
      "3                          0.0                          0.0   \n",
      "4                          0.0                          0.0   \n",
      "\n",
      "   0.000000000000000000e+00.60  0.000000000000000000e+00.61  \\\n",
      "0                          0.0                          0.0   \n",
      "1                          0.0                          0.0   \n",
      "2                          0.0                          0.0   \n",
      "3                          0.0                          0.0   \n",
      "4                          0.0                          0.0   \n",
      "\n",
      "   0.000000000000000000e+00.62  0.000000000000000000e+00.63  \\\n",
      "0                          0.0                          0.0   \n",
      "1                          0.0                          0.0   \n",
      "2                          0.0                          0.0   \n",
      "3                          0.0                          0.0   \n",
      "4                          0.0                          0.0   \n",
      "\n",
      "   0.000000000000000000e+00.64  0.000000000000000000e+00.65  \n",
      "0                          0.0                          0.0  \n",
      "1                          0.0                          0.0  \n",
      "2                          0.0                          0.0  \n",
      "3                          0.0                          0.0  \n",
      "4                          0.0                          0.0  \n",
      "\n",
      "[5 rows x 188 columns]\n"
     ]
    }
   ],
   "source": [
    "df_merged = pd.concat([normal_df, abnormal_df], ignore_index=True)\n",
    "print(df_merged.head(5))"
   ]
  },
  {
   "cell_type": "code",
   "execution_count": 23,
   "metadata": {},
   "outputs": [],
   "source": [
    "df_merged.fillna(df_merged.mean(), inplace=True)\n",
    "X = df_merged.iloc[:, :-1]\n",
    "y = df_merged.iloc[:, -1]"
   ]
  },
  {
   "cell_type": "code",
   "execution_count": 24,
   "metadata": {},
   "outputs": [
    {
     "name": "stdout",
     "output_type": "stream",
     "text": [
      "0       0.0\n",
      "1       0.0\n",
      "2       0.0\n",
      "3       0.0\n",
      "4       0.0\n",
      "       ... \n",
      "8085    0.0\n",
      "8086    0.0\n",
      "8087    0.0\n",
      "8088    0.0\n",
      "8089    0.0\n",
      "Name: 0.000000000000000000e+00.65, Length: 8090, dtype: float64\n"
     ]
    }
   ],
   "source": [
    "print(y)"
   ]
  },
  {
   "cell_type": "code",
   "execution_count": 25,
   "metadata": {},
   "outputs": [],
   "source": [
    "scaler = MinMaxScaler()\n",
    "X = scaler.fit_transform(X)"
   ]
  },
  {
   "cell_type": "code",
   "execution_count": 26,
   "metadata": {},
   "outputs": [],
   "source": [
    "from sklearn.model_selection import train_test_split\n",
    "\n",
    "X_train, X_test, y_train, y_test = train_test_split(X, y, test_size=0.2, random_state=42,shuffle=True)"
   ]
  },
  {
   "cell_type": "code",
   "execution_count": 27,
   "metadata": {},
   "outputs": [
    {
     "name": "stdout",
     "output_type": "stream",
     "text": [
      "[[1.         0.48370776 0.19388949 ... 0.         0.         0.        ]\n",
      " [1.         0.72804913 0.27418307 ... 0.         0.         0.        ]\n",
      " [1.         0.37993708 0.05634695 ... 0.         0.         0.        ]\n",
      " ...\n",
      " [1.         0.53798296 0.09915622 ... 0.         0.         0.        ]\n",
      " [1.         0.80854189 0.37942392 ... 0.         0.         0.        ]\n",
      " [0.87905927 0.91061008 0.33345041 ... 0.         0.         0.        ]]\n"
     ]
    }
   ],
   "source": [
    "print(X_test)"
   ]
  },
  {
   "cell_type": "code",
   "execution_count": 28,
   "metadata": {},
   "outputs": [
    {
     "name": "stdout",
     "output_type": "stream",
     "text": [
      "Accuracy: 1.0\n",
      "Classification Report:\n",
      "              precision    recall  f1-score   support\n",
      "\n",
      "         0.0       1.00      1.00      1.00      1618\n",
      "\n",
      "    accuracy                           1.00      1618\n",
      "   macro avg       1.00      1.00      1.00      1618\n",
      "weighted avg       1.00      1.00      1.00      1618\n",
      "\n"
     ]
    }
   ],
   "source": [
    "from sklearn.ensemble import RandomForestClassifier\n",
    "from sklearn.metrics import accuracy_score, classification_report\n",
    "\n",
    "# Train the model\n",
    "model = RandomForestClassifier(random_state=42)\n",
    "model.fit(X_train, y_train)\n",
    "\n",
    "# Predict on the test set\n",
    "y_pred = model.predict(X_test)\n",
    "\n",
    "# Evaluate the model\n",
    "accuracy = accuracy_score(y_test, y_pred)\n",
    "print(f\"Accuracy: {accuracy}\")\n",
    "print(\"Classification Report:\")\n",
    "print(classification_report(y_test, y_pred))"
   ]
  }
 ],
 "metadata": {
  "kernelspec": {
   "display_name": "Python 3",
   "language": "python",
   "name": "python3"
  },
  "language_info": {
   "codemirror_mode": {
    "name": "ipython",
    "version": 3
   },
   "file_extension": ".py",
   "mimetype": "text/x-python",
   "name": "python",
   "nbconvert_exporter": "python",
   "pygments_lexer": "ipython3",
   "version": "3.9.6"
  }
 },
 "nbformat": 4,
 "nbformat_minor": 2
}
